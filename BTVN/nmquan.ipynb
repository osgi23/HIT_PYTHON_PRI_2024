{
  "nbformat": 4,
  "nbformat_minor": 0,
  "metadata": {
    "colab": {
      "provenance": []
    },
    "kernelspec": {
      "name": "python3",
      "display_name": "Python 3"
    },
    "language_info": {
      "name": "python"
    }
  },
  "cells": [
    {
      "cell_type": "markdown",
      "source": [
        "Câu 1: Python có thể làm được những  điều sau đây\n",
        "1.Trí tuệ nhân tạo (AI) và học máy (Machine Learning): Python là ngôn ngữ phổ biến nhất cho AI và ML, với các thư viện như TensorFlow, Keras, và Scikit-learn để xây dựng các mô hình thông minh.\n",
        "2. Phát triển web: Python có các framework như Django và Flask giúp tạo ra các ứng dụng web hiệu quả.\n",
        "3. Tự động hóa: Python có thể được sử dụng để tự động hóa các tác vụ lặp đi lặp lại, ví dụ như tự động hóa email, xử lý file, hay quản lý hệ thống.\n",
        "4. Lập trình hệ thống: Python có thể được sử dụng để viết các script hệ thống, quản lý file, và thực thi các tác vụ cấp thấp trên hệ điều hành.\n",
        "5. Phân tích văn bản và xử lý ngôn ngữ tự nhiên (NLP): Python có thư viện như NLTK, SpaCy để làm việc với văn bản và dữ liệu ngôn ngữ.\n",
        "\n"
      ],
      "metadata": {
        "id": "fAI6tbmpst3I"
      }
    },
    {
      "cell_type": "markdown",
      "source": [
        "câu 2:\n",
        "Đặc điểm của ngôn ngữ python và ngôn ngữ c++ là:\n",
        "Giống nhau:\n",
        "  - Đều là ngôn ngữ lập trình hướng đối tượng\n",
        "  - Đều có thể chạy được trên nhiều nền tảng khác nhau như Window, MacOS, Linux, ...\n",
        "Khác nhau:\n",
        "  - Python là ngôn ngữ lập trình bậc cao, còn c++ là ngôn ngữ lập trình bậc\n",
        "  - Python có cấu trúc câu lệnh đơn giản, gần với ngôn ngữ tự nhiên; trong khi đó C++ lại có phần phức tạp hơn."
      ],
      "metadata": {
        "id": "wnazeyUusvwF"
      }
    },
    {
      "cell_type": "markdown",
      "source": [
        "câu 3: Python là một ngôn ngữ thông dịch tại vì ngôn ngữ Python trực tiếp chạy từng dòng mã. Nếu có lỗi trong mã chương trình, nó sẽ ngừng chạy. Do đó, lập trình viên có thể nhanh chóng tìm ra lỗi trong đoạn mã."
      ],
      "metadata": {
        "id": "VOeKKh4ju5no"
      }
    },
    {
      "cell_type": "code",
      "source": [
        "# Cau5:\n",
        "# Cach khai bao bien trong Python\n",
        "\n",
        "date = 2025\n",
        "st = \"Hello world\"\n",
        "\n",
        "# Cac toan tu trong Python\n",
        "a1 = 3\n",
        "b1 = 4\n",
        "#toan tu AND &\n",
        "print(a1 & b1)\n",
        "\n",
        "#toan tu OR |\n",
        "print(a1 | b1)\n",
        "\n",
        "#toan tu XOR ^\n",
        "print(a1 ^ b1)\n",
        "\n",
        "#toan tu NOT ~\n",
        "print(~a1)\n",
        "\n",
        "# << left shift\n",
        "print(a1 << a1)\n",
        "\n",
        "# >> right shift\n",
        "print(a1 >> a1)\n",
        "\n",
        "\n",
        "# Cac kieu du lieu trong Python\n",
        "#Number la 1 kieu du lieu thuong duoc dung trong python dung de luu tru hau het cac kieuve so nhu: int, float, complex\n",
        "a = int(input())\n",
        "print(a)\n",
        "\n",
        "#string la 1 kieu du lieu bieu thi cho cac chuoi va duoc bao quanh boi dau ngoac don hoac ngoac kep\n",
        "s = str(input())\n",
        "print(s)\n",
        "\n",
        "#list la 1 kieu du lieu dung de luu tru nhieu items trong 1 bien duy nhat\n",
        "lst = [1, 2, 3, 4, 'newbie', 'hello']\n",
        "print(lst)\n",
        "\n",
        "#tuples tuong tu voi kieu list nhung cac items duoc sap xeo theo thu tu va khong the thay doi\n",
        "tpl = (1, 2, 4, 'omg', 'troioi')\n",
        "print(tpl)\n",
        "\n",
        "#dictionary la kieu du lieu dung de luu tru 1 tap hop duoc sap xep va cac ky tu khong duoc trung lap\n",
        "my_dict = {\n",
        "    \"ten\": \"quan\",\n",
        "    \"nam sinh\": 2005,\n",
        "    \"gioi tinh\": \"nam\"\n",
        "}"
      ],
      "metadata": {
        "colab": {
          "base_uri": "https://localhost:8080/",
          "height": 478
        },
        "id": "K-sqUbVxvRep",
        "outputId": "01924a95-980f-4a50-9236-4b9b30ef6b6d"
      },
      "execution_count": 1,
      "outputs": [
        {
          "output_type": "stream",
          "name": "stdout",
          "text": [
            "0\n",
            "7\n",
            "7\n",
            "-4\n",
            "24\n",
            "0\n"
          ]
        },
        {
          "output_type": "error",
          "ename": "KeyboardInterrupt",
          "evalue": "Interrupted by user",
          "traceback": [
            "\u001b[0;31m---------------------------------------------------------------------------\u001b[0m",
            "\u001b[0;31mKeyboardInterrupt\u001b[0m                         Traceback (most recent call last)",
            "\u001b[0;32m<ipython-input-1-a31d6a3fe5f3>\u001b[0m in \u001b[0;36m<cell line: 31>\u001b[0;34m()\u001b[0m\n\u001b[1;32m     29\u001b[0m \u001b[0;31m# Cac kieu du lieu trong Python\u001b[0m\u001b[0;34m\u001b[0m\u001b[0;34m\u001b[0m\u001b[0m\n\u001b[1;32m     30\u001b[0m \u001b[0;31m#Number la 1 kieu du lieu thuong duoc dung trong python dung de luu tru hau het cac kieuve so nhu: int, float, complex\u001b[0m\u001b[0;34m\u001b[0m\u001b[0;34m\u001b[0m\u001b[0m\n\u001b[0;32m---> 31\u001b[0;31m \u001b[0ma\u001b[0m \u001b[0;34m=\u001b[0m \u001b[0mint\u001b[0m\u001b[0;34m(\u001b[0m\u001b[0minput\u001b[0m\u001b[0;34m(\u001b[0m\u001b[0;34m)\u001b[0m\u001b[0;34m)\u001b[0m\u001b[0;34m\u001b[0m\u001b[0;34m\u001b[0m\u001b[0m\n\u001b[0m\u001b[1;32m     32\u001b[0m \u001b[0mprint\u001b[0m\u001b[0;34m(\u001b[0m\u001b[0ma\u001b[0m\u001b[0;34m)\u001b[0m\u001b[0;34m\u001b[0m\u001b[0;34m\u001b[0m\u001b[0m\n\u001b[1;32m     33\u001b[0m \u001b[0;34m\u001b[0m\u001b[0m\n",
            "\u001b[0;32m/usr/local/lib/python3.10/dist-packages/ipykernel/kernelbase.py\u001b[0m in \u001b[0;36mraw_input\u001b[0;34m(self, prompt)\u001b[0m\n\u001b[1;32m    849\u001b[0m                 \u001b[0;34m\"raw_input was called, but this frontend does not support input requests.\"\u001b[0m\u001b[0;34m\u001b[0m\u001b[0;34m\u001b[0m\u001b[0m\n\u001b[1;32m    850\u001b[0m             )\n\u001b[0;32m--> 851\u001b[0;31m         return self._input_request(str(prompt),\n\u001b[0m\u001b[1;32m    852\u001b[0m             \u001b[0mself\u001b[0m\u001b[0;34m.\u001b[0m\u001b[0m_parent_ident\u001b[0m\u001b[0;34m,\u001b[0m\u001b[0;34m\u001b[0m\u001b[0;34m\u001b[0m\u001b[0m\n\u001b[1;32m    853\u001b[0m             \u001b[0mself\u001b[0m\u001b[0;34m.\u001b[0m\u001b[0m_parent_header\u001b[0m\u001b[0;34m,\u001b[0m\u001b[0;34m\u001b[0m\u001b[0;34m\u001b[0m\u001b[0m\n",
            "\u001b[0;32m/usr/local/lib/python3.10/dist-packages/ipykernel/kernelbase.py\u001b[0m in \u001b[0;36m_input_request\u001b[0;34m(self, prompt, ident, parent, password)\u001b[0m\n\u001b[1;32m    893\u001b[0m             \u001b[0;32mexcept\u001b[0m \u001b[0mKeyboardInterrupt\u001b[0m\u001b[0;34m:\u001b[0m\u001b[0;34m\u001b[0m\u001b[0;34m\u001b[0m\u001b[0m\n\u001b[1;32m    894\u001b[0m                 \u001b[0;31m# re-raise KeyboardInterrupt, to truncate traceback\u001b[0m\u001b[0;34m\u001b[0m\u001b[0;34m\u001b[0m\u001b[0m\n\u001b[0;32m--> 895\u001b[0;31m                 \u001b[0;32mraise\u001b[0m \u001b[0mKeyboardInterrupt\u001b[0m\u001b[0;34m(\u001b[0m\u001b[0;34m\"Interrupted by user\"\u001b[0m\u001b[0;34m)\u001b[0m \u001b[0;32mfrom\u001b[0m \u001b[0;32mNone\u001b[0m\u001b[0;34m\u001b[0m\u001b[0;34m\u001b[0m\u001b[0m\n\u001b[0m\u001b[1;32m    896\u001b[0m             \u001b[0;32mexcept\u001b[0m \u001b[0mException\u001b[0m \u001b[0;32mas\u001b[0m \u001b[0me\u001b[0m\u001b[0;34m:\u001b[0m\u001b[0;34m\u001b[0m\u001b[0;34m\u001b[0m\u001b[0m\n\u001b[1;32m    897\u001b[0m                 \u001b[0mself\u001b[0m\u001b[0;34m.\u001b[0m\u001b[0mlog\u001b[0m\u001b[0;34m.\u001b[0m\u001b[0mwarning\u001b[0m\u001b[0;34m(\u001b[0m\u001b[0;34m\"Invalid Message:\"\u001b[0m\u001b[0;34m,\u001b[0m \u001b[0mexc_info\u001b[0m\u001b[0;34m=\u001b[0m\u001b[0;32mTrue\u001b[0m\u001b[0;34m)\u001b[0m\u001b[0;34m\u001b[0m\u001b[0;34m\u001b[0m\u001b[0m\n",
            "\u001b[0;31mKeyboardInterrupt\u001b[0m: Interrupted by user"
          ]
        }
      ]
    }
  ]
}