{
  "nbformat": 4,
  "nbformat_minor": 0,
  "metadata": {
    "colab": {
      "provenance": []
    },
    "kernelspec": {
      "name": "python3",
      "display_name": "Python 3"
    },
    "language_info": {
      "name": "python"
    }
  },
  "cells": [
    {
      "cell_type": "code",
      "execution_count": null,
      "metadata": {
        "id": "IleQPDRnmGNs"
      },
      "outputs": [],
      "source": [
        "# bai 1_1 tinh e^x\n",
        "\n",
        "def giaithua(n):\n",
        "    if n == 1 or n == 0:\n",
        "        return 1\n",
        "    return n * giaithua(n - 1)\n",
        "\n",
        "x = float(input())\n",
        "n1 = 30\n",
        "sum1 = 1.0\n",
        "for i in range(1, n1, 1):\n",
        "    sum1 += pow(x, i) / giaithua(i)\n",
        "\n",
        "print(\"Gia tri cua e^x la\", sum1)\n"
      ]
    },
    {
      "cell_type": "code",
      "source": [
        "\n",
        "\n",
        "# bai 1_2 tinh gia tri bieu thuc\n",
        "n = int(input())\n",
        "sum2 = 1.0\n",
        "\n",
        "for i in range(1, n, 1):\n",
        "    sum2 += 1 / giaithua(i)\n",
        "\n",
        "print(\"gia tri cua bieu thuc la: \", sum2)"
      ],
      "metadata": {
        "id": "7mSaxvFHmKPB"
      },
      "execution_count": null,
      "outputs": []
    },
    {
      "cell_type": "code",
      "source": [
        "# bai2\n",
        "n = int(input())\n",
        "\n",
        "import math\n",
        "\n",
        "def dem_uoc(i):\n",
        "    sqrt_n = int(math.isqrt(n))\n",
        "    if sqrt_n >= 2:\n",
        "        return sqrt_n - 1\n",
        "    else:\n",
        "        return 0\n",
        "\n",
        "\n",
        "print(dem_uoc(n))\n"
      ],
      "metadata": {
        "id": "zX79nKW-mOAV"
      },
      "execution_count": 1,
      "outputs": []
    },
    {
      "cell_type": "markdown",
      "source": [],
      "metadata": {
        "id": "XZHxS46ZmJ4G"
      }
    },
    {
      "cell_type": "code",
      "source": [
        "# bai3\n",
        "def xep_loai(diem1, diem2):\n",
        "    tong_diem = diem1+ diem2\n",
        "    if tong_diem >= 190:\n",
        "        return \"xuat xac\"\n",
        "    elif tong_diem >= 150:\n",
        "        return \"gioi\"\n",
        "    elif tong_diem >= 100:\n",
        "        return \"kha\"\n",
        "    else:\n",
        "        return \"yeu\"\n",
        "\n",
        "n = int(input())\n",
        "\n",
        "while n > 0:\n",
        "    s = input()\n",
        "    diem_1 = int(input())\n",
        "    diem_2 = int(input())\n",
        "\n",
        "    print(n, s, diem_1 + diem_2, xep_loai(diem_1, diem_2))\n",
        "    n -=1"
      ],
      "metadata": {
        "id": "jpPtFdmLmXbJ"
      },
      "execution_count": null,
      "outputs": []
    },
    {
      "cell_type": "code",
      "source": [
        "# bai4\n",
        "def check(email):\n",
        "    if \"@\" in email and \".\" in email:\n",
        "        pos_a = email.index(\"@\")\n",
        "        pos_point = email.rindex(\".\")\n",
        "\n",
        "        if 0 < pos_a < pos_point - 1 < len(email) - 1:\n",
        "            return True\n",
        "    return False\n",
        "\n",
        "email = input(\"Nhap email: \")\n",
        "\n",
        "if check(email):\n",
        "    print(\"yes\")\n",
        "else:\n",
        "    print(\"not email\")"
      ],
      "metadata": {
        "id": "_p-Rkkpnnwek"
      },
      "execution_count": null,
      "outputs": []
    },
    {
      "cell_type": "code",
      "source": [
        "# bai5\n",
        "def zoo():\n",
        "    m = int(input())\n",
        "    animals = []\n",
        "    food_amounts = []\n",
        "\n",
        "    for _ in range(m):\n",
        "        dv = input(\"Nhap ten dong vat: \")\n",
        "        food = float(input(f\"Nhap khoi luong thuc an(kg) cho {dv}: \"))\n",
        "        animals.append(dv)\n",
        "        food_amounts.append(food)\n",
        "\n",
        "    daily_descriptions = [f\"{animals[i]}, {food_amounts[i]}\" for i in range(m)]\n",
        "    total_food = 0\n",
        "    for food in food_amounts:\n",
        "        if food > 100:\n",
        "            break\n",
        "        if food >= 5:\n",
        "            total_food += food\n",
        "\n",
        "    max_food = max(food_amounts)\n",
        "    top_eater = animals[food_amounts.index(max_food)]\n",
        "\n",
        "    lowest_eater_index = \"khong co\"\n",
        "    min_food = float('inf')\n",
        "    for i, food in enumerate(food_amounts):\n",
        "        if food < 5 and food < min_food:\n",
        "            min_food = food\n",
        "            lowest_eater_index = i\n",
        "    print(daily_descriptions)\n",
        "    print(total_food)\n",
        "    print(top_eater)\n",
        "    print(lowest_eater_index)\n",
        "\n",
        "zoo()"
      ],
      "metadata": {
        "id": "wQTEzqgGo9Gc"
      },
      "execution_count": null,
      "outputs": []
    },
    {
      "cell_type": "code",
      "source": [
        "# bai6\n",
        "import math\n",
        "\n",
        "def B_S_F(x):\n",
        "    if x < 0:\n",
        "        return 0\n",
        "    else:\n",
        "        return 1\n",
        "\n",
        "def S_F(x):\n",
        "    return 1 / (1 + pow(math.e, -x))\n",
        "\n",
        "def ELU_F(x):\n",
        "    if x < 0:\n",
        "        return 0.01 * (pow(math.e, x) - 1)\n",
        "    else:\n",
        "        return x\n",
        "\n",
        "def is_number(x):\n",
        "    try:\n",
        "        float(x)\n",
        "        return True\n",
        "    except ValueError:\n",
        "        return False\n",
        "\n",
        "x = float(input())\n",
        "while is_number(x) == False:\n",
        "    x = float(input())\n",
        "\n",
        "s = input()\n",
        "while s != \"binary\" and s != \"sigmoid\" and s != \"elu\":\n",
        "    print(s, \"is not supported\")\n",
        "    s = input()\n",
        "\n",
        "if s == \"binary\":\n",
        "    print(B_S_F(x))\n",
        "elif s == \"sigmoid\":\n",
        "    print(S_F(x))\n",
        "elif s == \"elu\":\n",
        "    print(ELU_F(x))"
      ],
      "metadata": {
        "id": "dKzzlK1SqLo8"
      },
      "execution_count": null,
      "outputs": []
    }
  ]
}